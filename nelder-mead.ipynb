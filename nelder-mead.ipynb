{
 "cells": [
  {
   "cell_type": "code",
   "execution_count": 1,
   "metadata": {},
   "outputs": [],
   "source": [
    "import numpy as np"
   ]
  },
  {
   "cell_type": "code",
   "execution_count": 2,
   "metadata": {},
   "outputs": [],
   "source": [
    "def f1(xy):\n",
    "    x = xy[0]\n",
    "    y = xy[1]\n",
    "    return (x * x + y - 11) ** 2 + (x + y * y - 7) ** 2\n"
   ]
  },
  {
   "cell_type": "code",
   "execution_count": 3,
   "metadata": {},
   "outputs": [],
   "source": [
    "def f2(xy):\n",
    "    x = xy[0]\n",
    "    y = xy[1]\n",
    "    return np.sin(y) * np.exp((1 - np.cos(x)) ** 2) + np.cos(x) * np.exp((1 - np.sin(y)) ** 2) + (x - y) ** 2\n"
   ]
  },
  {
   "cell_type": "code",
   "execution_count": 4,
   "metadata": {},
   "outputs": [],
   "source": [
    "def getSorted(XY, f):\n",
    "    fXY = np.array([f(xy) for xy in XY])\n",
    "    indH = np.argmax(fXY)\n",
    "    indL = np.argmin(fXY)\n",
    "    fXY_copy = np.copy(fXY)\n",
    "    fXY_copy[indH] = -3e+5\n",
    "    indG = np.argmax(fXY_copy)\n",
    "    return (indH, indG, indL)\n"
   ]
  },
  {
   "cell_type": "code",
   "execution_count": 5,
   "metadata": {},
   "outputs": [],
   "source": [
    "import matplotlib.pyplot as plt\n",
    "\n",
    "\n",
    "def plot_tri(xy):\n",
    "    plt.scatter(xy[:, 0], xy[:, 1])\n",
    "    tri = plt.Polygon(xy)\n",
    "    plt.gca().add_patch(tri)\n",
    "    plt.show()\n"
   ]
  },
  {
   "cell_type": "code",
   "execution_count": 6,
   "metadata": {},
   "outputs": [],
   "source": [
    "def optimize(f):\n",
    "    alpha = 1.0\n",
    "    beta = 0.5\n",
    "    gamma = 2.0\n",
    "    xy = np.array([np.array([-1.0, -1.0]), np.array([-3.0, -1.0]), np.array([-4.0, 3.0])])\n",
    "    while np.max(xy[:, 0]) - np.min(xy[:, 0]) > 1e-5 or \\\n",
    "            np.max(xy[:, 1]) - np.min(xy[:, 1]) > 1e-5:\n",
    "        plot_tri(xy)\n",
    "        ind_h, ind_g, ind_l = getSorted(xy, f)\n",
    "        my_sum = np.array([np.array([val[0], val[1]]) for idx, val in enumerate(xy) if idx != ind_h])\n",
    "        x_c = np.array([np.mean(my_sum[:, 0]), np.mean(my_sum[:, 1])])\n",
    "        x_r = (1 + alpha) * x_c - alpha * xy[ind_h]\n",
    "        f_r = f(x_r)\n",
    "        f_h = f(xy[ind_h])\n",
    "        f_L = f(xy[ind_l])\n",
    "        f_g = f(xy[ind_g])\n",
    "        fl9 = False\n",
    "        if f_r < f_L:\n",
    "            x_e = (1 - gamma) * x_c + gamma * x_r\n",
    "            f_e = f(x_e)\n",
    "            if f_e < f_r:\n",
    "                xy[ind_h] = x_e\n",
    "            else:\n",
    "                xy[ind_h] = x_r\n",
    "            fl9 = True\n",
    "        if (f_r > f_L) and (f_r < f_g):\n",
    "            xy[ind_h] = x_r\n",
    "            fl9 = True\n",
    "        if (f_r > f_g) and (f_r < f_h):\n",
    "            xy[ind_h] = x_r\n",
    "            f_h = f_r\n",
    "        if not fl9:\n",
    "            x_S = beta * xy[ind_h] + (1 - beta) * x_c\n",
    "            f_S = f(x_S)\n",
    "            if f_S < f_h:\n",
    "                xy[ind_h] = x_S\n",
    "            else:\n",
    "                xy = np.array(\n",
    "                    [np.array(xy[ind_l] + (el - xy[ind_l]) / 2) if idx != ind_l else np.array(el) for idx, el in\n",
    "                     enumerate(xy)])\n",
    "    return xy\n"
   ]
  },
  {
   "cell_type": "code",
   "execution_count": 7,
   "metadata": {},
   "outputs": [],
   "source": [
    "XY = optimize(f1)"
   ]
  },
  {
   "cell_type": "code",
   "execution_count": 8,
   "metadata": {},
   "outputs": [
    {
     "data": {
      "text/plain": [
       "array([[-2.8051186 ,  3.13131815],\n       [-2.80512115,  3.13131172],\n       [-2.80511675,  3.13131139]])"
      ]
     },
     "execution_count": 8,
     "metadata": {},
     "output_type": "execute_result"
    }
   ],
   "source": [
    "XY"
   ]
  },
  {
   "cell_type": "code",
   "execution_count": 9,
   "metadata": {},
   "outputs": [],
   "source": [
    "XY = optimize(f2)"
   ]
  },
  {
   "cell_type": "code",
   "execution_count": 8,
   "metadata": {},
   "outputs": [
    {
     "data": {
      "text/plain": [
       "array([[-2.8051186 ,  3.13131815],\n       [-2.80512115,  3.13131172],\n       [-2.80511675,  3.13131139]])"
      ]
     },
     "execution_count": 8,
     "metadata": {},
     "output_type": "execute_result"
    }
   ],
   "source": [
    "XY"
   ]
  },
  {
   "cell_type": "code",
   "execution_count": null,
   "metadata": {},
   "outputs": [],
   "source": []
  },
  {
   "cell_type": "code",
   "execution_count": null,
   "metadata": {},
   "outputs": [],
   "source": []
  }
 ],
 "metadata": {
  "kernelspec": {
   "display_name": "Python 3",
   "language": "python",
   "name": "python3"
  },
  "language_info": {
   "codemirror_mode": {
    "name": "ipython",
    "version": 3
   },
   "file_extension": ".py",
   "mimetype": "text/x-python",
   "name": "python",
   "nbconvert_exporter": "python",
   "pygments_lexer": "ipython3",
   "version": "3.6.3"
  }
 },
 "nbformat": 4,
 "nbformat_minor": 2
}
